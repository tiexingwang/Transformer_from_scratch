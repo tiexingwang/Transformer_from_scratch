{
 "cells": [
  {
   "cell_type": "code",
   "execution_count": null,
   "id": "1c5f9a95",
   "metadata": {
    "vscode": {
     "languageId": "plaintext"
    }
   },
   "outputs": [],
   "source": []
  },
  {
   "cell_type": "markdown",
   "id": "70001763",
   "metadata": {},
   "source": [
    "[![Open In Colab](https://colab.research.googleusercontent.com/assets/colab-badge.svg)](https://colab.research.google.com/github/USER/REPO/blob/BRANCH/notebooks/train_in_colab.ipynb)"
   ]
  },
  {
   "cell_type": "code",
   "execution_count": null,
   "id": "94067516",
   "metadata": {
    "vscode": {
     "languageId": "plaintext"
    }
   },
   "outputs": [],
   "source": [
    "%cd /content\n",
    "!git clone https://github.com/tiexingwang/Transformer_from_scratch.git\n",
    "%cd <your_repo>\n",
    "\n",
    "import sys, os\n",
    "sys.path.insert(0, os.path.abspath(\".\"))  # so `from src...` works"
   ]
  }
 ],
 "metadata": {
  "language_info": {
   "name": "python"
  }
 },
 "nbformat": 4,
 "nbformat_minor": 5
}
