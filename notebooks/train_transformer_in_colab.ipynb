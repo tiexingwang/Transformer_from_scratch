{
 "cells": [
  {
   "cell_type": "markdown",
   "id": "70001763",
   "metadata": {},
   "source": [
    "<p align=\"center\">\n",
    "  <img src=\"https://raw.githubusercontent.com/tiexingwang/Transformer_from_scratch/main/logo.png\" alt=\"Logo\" width=\"200\"/>\n",
    "</p>\n",
    "\n",
    "<a href=\"https://colab.research.google.com/github/tiexingwang/Transformer_from_scratch/blob/main/Transformer_from_scratch.ipynb\" target=\"_blank\">\n",
    "  <img src=\"https://colab.research.google.com/assets/colab-badge.svg\" alt=\"Open in Colab\"/>\n",
    "</a>\n",
    "\n",
    "# 📘 Implementing a Decoder-Only Transformer from Scratch\n"
   ]
  },
  {
   "cell_type": "code",
   "execution_count": null,
   "id": "94067516",
   "metadata": {},
   "outputs": [],
   "source": [
    "%cd /content\n",
    "!git clone https://github.com/tiexingwang/Transformer_from_scratch.git\n",
    "%cd <your_repo>\n",
    "\n",
    "import sys, os\n",
    "sys.path.insert(0, os.path.abspath(\".\"))  # so `from src...` works"
   ]
  }
 ],
 "metadata": {
  "kernelspec": {
   "display_name": "FNO",
   "language": "python",
   "name": "python3"
  },
  "language_info": {
   "name": "python",
   "version": "3.11.5"
  }
 },
 "nbformat": 4,
 "nbformat_minor": 5
}
