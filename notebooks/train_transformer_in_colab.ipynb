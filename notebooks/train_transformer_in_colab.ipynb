{
  "cells": [
    {
      "cell_type": "markdown",
      "id": "70001763",
      "metadata": {
        "id": "70001763"
      },
      "source": [
        "<a href=\"https://colab.research.google.com/github/tiexingwang/Transformer_from_scratch/blob/main/notebooks/train_transformer_in_colab.ipynb\" target=\"_blank\">\n",
        "  <img src=\"https://colab.research.google.com/assets/colab-badge.svg\" alt=\"Open in Colab\"/>\n",
        "</a>\n",
        "\n",
        "# 📘 Implementing a Decoder-Only Transformer from Scratch\n"
      ]
    },
    {
      "cell_type": "code",
      "execution_count": 2,
      "id": "94067516",
      "metadata": {
        "colab": {
          "base_uri": "https://localhost:8080/"
        },
        "id": "94067516",
        "outputId": "4c39089f-30d3-4acb-ba9f-7acdad4b35f4"
      },
      "outputs": [
        {
          "output_type": "stream",
          "name": "stdout",
          "text": [
            "/content\n",
            "fatal: destination path 'Transformer_from_scratch' already exists and is not an empty directory.\n",
            "/content/Transformer_from_scratch\n"
          ]
        }
      ],
      "source": [
        "%cd /content\n",
        "!git clone https://github.com/tiexingwang/Transformer_from_scratch.git\n",
        "%cd /content/Transformer_from_scratch\n",
        "\n",
        "import sys, os\n",
        "sys.path.insert(0, os.path.abspath(\".\"))  # so `from src...` works"
      ]
    },
    {
      "cell_type": "code",
      "source": [],
      "metadata": {
        "id": "CznfzMUPxL0L"
      },
      "id": "CznfzMUPxL0L",
      "execution_count": null,
      "outputs": []
    }
  ],
  "metadata": {
    "kernelspec": {
      "display_name": "FNO",
      "language": "python",
      "name": "python3"
    },
    "language_info": {
      "name": "python",
      "version": "3.11.5"
    },
    "colab": {
      "provenance": []
    }
  },
  "nbformat": 4,
  "nbformat_minor": 5
}